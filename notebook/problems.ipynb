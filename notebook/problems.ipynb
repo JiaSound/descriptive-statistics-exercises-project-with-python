{
    "cells": [
        {
            "cell_type": "markdown",
            "id": "ac622319",
            "metadata": {},
            "source": [
                "# Descriptive statistics problems"
            ]
        },
        {
            "cell_type": "markdown",
            "id": "5e0ab0d5",
            "metadata": {},
            "source": [
                "### Exercise 1\n",
                "\n",
                "We will use NumPy to obtain information to describe statistically.\n",
                "\n",
                "- Generate an array of 100 elements following a normal distribution.\n",
                "- Generate an array of 100 elements following a chi-square distribution with 3 degrees of freedom.\n",
                "- Calculate the main metrics and statistical measures that best describe the two vectors."
            ]
        },
        {
            "cell_type": "code",
            "execution_count": 12,
            "id": "34720ab6",
            "metadata": {},
            "outputs": [
                {
                    "name": "stdout",
                    "output_type": "stream",
                    "text": [
                        "Vector 1 Metrics:\n",
                        "Mean: -0.0693341991096249, Standard Deviation: 0.9185668487040766, Variance: 0.843765055538138\n",
                        "Median: -0.10781360525478392, Min: -2.3500241995371436, Max: 2.14380936706536\n",
                        "Percentiles (25, 50, 75): [-0.65070832 -0.10781361  0.6682672 ]\n",
                        "Skewness: -0.19879391317038037, Kurtosis: -0.33794225228816543\n",
                        "\n",
                        "Vector 2 Metrics:\n",
                        "Mean: 3.0100195699055052, Standard Deviation: 2.494785845030727, Variance: 6.223956412565679\n",
                        "Median: 2.2183220418703398, Min: 0.1780972452762181, Max: 11.276898875195776\n",
                        "Percentiles (25, 50, 75): [1.09617344 2.21832204 4.3899443 ]\n",
                        "Skewness: 1.1244387518789545, Kurtosis: 0.6133475532166317\n"
                    ]
                }
            ],
            "source": [
                "# TODO\n",
                "import numpy as np\n",
                "from scipy.stats import skew, kurtosis\n",
                "\n",
                "# Example vectors\n",
                "vector_1 = np.random.normal(size=100)  # Replace with your actual data\n",
                "vector_2 = np.random.chisquare(df=3, size=100)  # Replace with your actual data\n",
                "\n",
                "# Calculate metrics for vector_1\n",
                "mean_1 = np.mean(vector_1)\n",
                "std_dev_1 = np.std(vector_1)\n",
                "variance_1 = np.var(vector_1)\n",
                "median_1 = np.median(vector_1)\n",
                "min_1 = np.min(vector_1)\n",
                "max_1 = np.max(vector_1)\n",
                "percentiles_1 = np.percentile(vector_1, [25, 50, 75])\n",
                "skewness_1 = skew(vector_1)\n",
                "kurt_1 = kurtosis(vector_1)\n",
                "\n",
                "# Calculate metrics for vector_2\n",
                "mean_2 = np.mean(vector_2)\n",
                "std_dev_2 = np.std(vector_2)\n",
                "variance_2 = np.var(vector_2)\n",
                "median_2 = np.median(vector_2)\n",
                "min_2 = np.min(vector_2)\n",
                "max_2 = np.max(vector_2)\n",
                "percentiles_2 = np.percentile(vector_2, [25, 50, 75])\n",
                "skewness_2 = skew(vector_2)\n",
                "kurt_2 = kurtosis(vector_2)\n",
                "\n",
                "# Print results for both vectors\n",
                "print(\"Vector 1 Metrics:\")\n",
                "print(f\"Mean: {mean_1}, Standard Deviation: {std_dev_1}, Variance: {variance_1}\")\n",
                "print(f\"Median: {median_1}, Min: {min_1}, Max: {max_1}\")\n",
                "print(f\"Percentiles (25, 50, 75): {percentiles_1}\")\n",
                "print(f\"Skewness: {skewness_1}, Kurtosis: {kurt_1}\")\n",
                "\n",
                "print(\"\\nVector 2 Metrics:\")\n",
                "print(f\"Mean: {mean_2}, Standard Deviation: {std_dev_2}, Variance: {variance_2}\")\n",
                "print(f\"Median: {median_2}, Min: {min_2}, Max: {max_2}\")\n",
                "print(f\"Percentiles (25, 50, 75): {percentiles_2}\")\n",
                "print(f\"Skewness: {skewness_2}, Kurtosis: {kurt_2}\")\n"
            ]
        },
        {
            "cell_type": "markdown",
            "id": "46c70c3d",
            "metadata": {},
            "source": [
                "### Exercise 2\n",
                "\n",
                "Write a Python program to calculate the standard deviation of the following data:\n",
                "\n",
                "```py\n",
                "data = [4, 2, 5, 8, 6]\n",
                "```"
            ]
        },
        {
            "cell_type": "code",
            "execution_count": 11,
            "id": "d590308e",
            "metadata": {},
            "outputs": [
                {
                    "name": "stdout",
                    "output_type": "stream",
                    "text": [
                        "Standard Deviation: 2.0\n"
                    ]
                }
            ],
            "source": [
                "# TODO\n",
                "\n",
                "data = [4, 2, 5, 8, 6]\n",
                "\n",
                "st_dev = np.std(data)\n",
                "print(f'Standard Deviation: {st_dev}')"
            ]
        },
        {
            "cell_type": "code",
            "execution_count": null,
            "id": "f4323449",
            "metadata": {},
            "outputs": [],
            "source": []
        }
    ],
    "metadata": {
        "kernelspec": {
            "display_name": ".venv",
            "language": "python",
            "name": "python3"
        },
        "language_info": {
            "codemirror_mode": {
                "name": "ipython",
                "version": 3
            },
            "file_extension": ".py",
            "mimetype": "text/x-python",
            "name": "python",
            "nbconvert_exporter": "python",
            "pygments_lexer": "ipython3",
            "version": "3.11.4"
        }
    },
    "nbformat": 4,
    "nbformat_minor": 5
}
